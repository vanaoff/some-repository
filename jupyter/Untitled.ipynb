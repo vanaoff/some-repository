{
 "cells": [
  {
   "cell_type": "code",
   "execution_count": 40,
   "metadata": {
    "collapsed": true
   },
   "outputs": [],
   "source": [
    "begin_word = \"hit\"\n",
    "end_word = \"cog\"\n",
    "word_list = [\"hot\",\"dot\",\"dog\",\"lot\",\"log\",\"cog\"]\n",
    "### solution:  \"hit\" -> \"hot\" -> \"dot\" -> \"dog\" -> \"cog\""
   ]
  },
  {
   "cell_type": "code",
   "execution_count": 41,
   "metadata": {
    "collapsed": true
   },
   "outputs": [],
   "source": [
    "complete_list = [begin_word] + word_list"
   ]
  },
  {
   "cell_type": "code",
   "execution_count": 80,
   "metadata": {
    "collapsed": false
   },
   "outputs": [],
   "source": [
    "def distance(one, another):\n",
    "    assert len(one) == len(another)\n",
    "    count = 0\n",
    "    for i,char in enumerate(one):\n",
    "        count += 1 if char != another[i] else 0\n",
    "    return count if count <= 1 else 0\n",
    "        "
   ]
  },
  {
   "cell_type": "code",
   "execution_count": 56,
   "metadata": {
    "collapsed": false
   },
   "outputs": [
    {
     "data": {
      "text/plain": [
       "1"
      ]
     },
     "execution_count": 56,
     "metadata": {},
     "output_type": "execute_result"
    }
   ],
   "source": [
    "distance(beginWord, \"hot\")"
   ]
  },
  {
   "cell_type": "code",
   "execution_count": 107,
   "metadata": {
    "collapsed": false
   },
   "outputs": [],
   "source": [
    "distance_matrix = []\n",
    "for i, word in enumerate(complete_list):\n",
    "    distance_matrix += [[0] * i + [distance(word, x) for x in complete_list[i:]]]\n",
    "    "
   ]
  },
  {
   "cell_type": "code",
   "execution_count": 82,
   "metadata": {
    "collapsed": false
   },
   "outputs": [
    {
     "data": {
      "text/plain": [
       "[[0, 1, 0, 0, 0, 0, 0],\n",
       " [0, 0, 1, 0, 1, 0, 0],\n",
       " [0, 0, 0, 1, 1, 0, 0],\n",
       " [0, 0, 0, 0, 0, 1, 1],\n",
       " [0, 0, 0, 0, 0, 1, 0],\n",
       " [0, 0, 0, 0, 0, 0, 1],\n",
       " [0, 0, 0, 0, 0, 0, 0]]"
      ]
     },
     "execution_count": 82,
     "metadata": {},
     "output_type": "execute_result"
    }
   ],
   "source": [
    "distance_matrix"
   ]
  },
  {
   "cell_type": "code",
   "execution_count": 108,
   "metadata": {
    "collapsed": true
   },
   "outputs": [],
   "source": [
    "def indexes_minimal(lst):\n",
    "    return list(filter(lambda x: x[1] == 1, enumerate(lst)))"
   ]
  },
  {
   "cell_type": "code",
   "execution_count": 150,
   "metadata": {
    "collapsed": false
   },
   "outputs": [],
   "source": []
  },
  {
   "cell_type": "code",
   "execution_count": 151,
   "metadata": {
    "collapsed": false
   },
   "outputs": [
    {
     "data": {
      "text/plain": [
       "[[0, 'hot', -1],\n",
       " [1, 'dot', -1],\n",
       " [2, 'dog', -1],\n",
       " [3, 'lot', -1],\n",
       " [4, 'log', -1],\n",
       " [5, 'cog', -1]]"
      ]
     },
     "execution_count": 151,
     "metadata": {},
     "output_type": "execute_result"
    }
   ],
   "source": [
    "result"
   ]
  },
  {
   "cell_type": "code",
   "execution_count": 175,
   "metadata": {
    "collapsed": false
   },
   "outputs": [],
   "source": [
    "    result = [[i, word, 0] for i, word in enumerate(complete_list)]\n",
    "def increase(lst, val):\n",
    "    for i in lst:\n",
    "        if result[i[0]] != 0:\n",
    "            result[i[0]][2] = val\n",
    "            increase(indexes_minimal(distance_matrix[i[0]]), val + 1)\n",
    "    "
   ]
  },
  {
   "cell_type": "code",
   "execution_count": 176,
   "metadata": {
    "collapsed": true
   },
   "outputs": [],
   "source": [
    "increase(indexes_minimal(distance_matrix[0]), 2)"
   ]
  },
  {
   "cell_type": "code",
   "execution_count": 177,
   "metadata": {
    "collapsed": false
   },
   "outputs": [
    {
     "data": {
      "text/plain": [
       "[[0, 'hit', 0],\n",
       " [1, 'hot', 2],\n",
       " [2, 'dot', 3],\n",
       " [3, 'dog', 4],\n",
       " [4, 'lot', 3],\n",
       " [5, 'log', 4],\n",
       " [6, 'cog', 5]]"
      ]
     },
     "execution_count": 177,
     "metadata": {},
     "output_type": "execute_result"
    }
   ],
   "source": [
    "result"
   ]
  },
  {
   "cell_type": "code",
   "execution_count": 179,
   "metadata": {
    "collapsed": false
   },
   "outputs": [],
   "source": [
    "final = list(filter(lambda x: x[1] == end_word, result))[0]"
   ]
  },
  {
   "cell_type": "code",
   "execution_count": 181,
   "metadata": {
    "collapsed": false
   },
   "outputs": [
    {
     "data": {
      "text/plain": [
       "5"
      ]
     },
     "execution_count": 181,
     "metadata": {},
     "output_type": "execute_result"
    }
   ],
   "source": [
    "final[2]"
   ]
  },
  {
   "cell_type": "code",
   "execution_count": 144,
   "metadata": {
    "collapsed": false
   },
   "outputs": [
    {
     "data": {
      "text/plain": [
       "[[0, 'hot', -1],\n",
       " [1, 'dot', -1],\n",
       " [2, 'dog', -1],\n",
       " [3, 'lot', -1],\n",
       " [4, 'log', -1],\n",
       " [5, 'cog', -1]]"
      ]
     },
     "execution_count": 144,
     "metadata": {},
     "output_type": "execute_result"
    }
   ],
   "source": [
    "result"
   ]
  },
  {
   "cell_type": "code",
   "execution_count": 87,
   "metadata": {
    "collapsed": false
   },
   "outputs": [
    {
     "data": {
      "text/plain": [
       "[[0, 'hot', 0, False],\n",
       " [1, 'dot', 0, False],\n",
       " [2, 'dog', 0, False],\n",
       " [3, 'lot', 0, False],\n",
       " [4, 'log', 0, False],\n",
       " [5, 'cog', 0, False]]"
      ]
     },
     "execution_count": 87,
     "metadata": {},
     "output_type": "execute_result"
    }
   ],
   "source": [
    "def set_minimal(l, distance_matrix):"
   ]
  },
  {
   "cell_type": "code",
   "execution_count": null,
   "metadata": {
    "collapsed": true
   },
   "outputs": [],
   "source": []
  }
 ],
 "metadata": {
  "anaconda-cloud": {},
  "kernelspec": {
   "display_name": "Python [conda root]",
   "language": "python",
   "name": "conda-root-py"
  },
  "language_info": {
   "codemirror_mode": {
    "name": "ipython",
    "version": 3
   },
   "file_extension": ".py",
   "mimetype": "text/x-python",
   "name": "python",
   "nbconvert_exporter": "python",
   "pygments_lexer": "ipython3",
   "version": "3.5.3"
  }
 },
 "nbformat": 4,
 "nbformat_minor": 2
}
